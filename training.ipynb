{
  "nbformat": 4,
  "nbformat_minor": 0,
  "metadata": {
    "colab": {
      "provenance": [],
      "gpuType": "T4",
      "mount_file_id": "1zBRhZL-hB9uYkzuWGq4Lg1RkQHtUZR4S",
      "authorship_tag": "ABX9TyMV+AdIWdotmO4+sI8ceRur",
      "include_colab_link": true
    },
    "kernelspec": {
      "name": "python3",
      "display_name": "Python 3"
    },
    "language_info": {
      "name": "python"
    },
    "accelerator": "GPU"
  },
  "cells": [
    {
      "cell_type": "markdown",
      "metadata": {
        "id": "view-in-github",
        "colab_type": "text"
      },
      "source": [
        "<a href=\"https://colab.research.google.com/github/HadarMiriamIsaacson/BS-SE-24-207/blob/main/Demo.ipynb\" target=\"_parent\"><img src=\"https://colab.research.google.com/assets/colab-badge.svg\" alt=\"Open In Colab\"/></a>"
      ]
    },
    {
      "cell_type": "markdown",
      "source": [
        "test1 23.08.24"
      ],
      "metadata": {
        "id": "xUMSu69sMJ3r"
      }
    },
    {
      "cell_type": "code",
      "source": [
        "file_path='/content/drive/MyDrive/פרויקט גמר ניסן והדר/new/data_final.xlsx'"
      ],
      "metadata": {
        "id": "MZr550wiMWQF"
      },
      "execution_count": null,
      "outputs": []
    },
    {
      "cell_type": "code",
      "source": [
        "pip install datasets"
      ],
      "metadata": {
        "colab": {
          "base_uri": "https://localhost:8080/"
        },
        "id": "IzdgaFL8QkqX",
        "outputId": "1839bc75-6f78-4666-c9b6-ab21e5ac80bd"
      },
      "execution_count": null,
      "outputs": [
        {
          "output_type": "stream",
          "name": "stdout",
          "text": [
            "Requirement already satisfied: datasets in /usr/local/lib/python3.10/dist-packages (2.21.0)\n",
            "Requirement already satisfied: filelock in /usr/local/lib/python3.10/dist-packages (from datasets) (3.15.4)\n",
            "Requirement already satisfied: numpy>=1.17 in /usr/local/lib/python3.10/dist-packages (from datasets) (1.26.4)\n",
            "Requirement already satisfied: pyarrow>=15.0.0 in /usr/local/lib/python3.10/dist-packages (from datasets) (17.0.0)\n",
            "Requirement already satisfied: dill<0.3.9,>=0.3.0 in /usr/local/lib/python3.10/dist-packages (from datasets) (0.3.8)\n",
            "Requirement already satisfied: pandas in /usr/local/lib/python3.10/dist-packages (from datasets) (2.1.4)\n",
            "Requirement already satisfied: requests>=2.32.2 in /usr/local/lib/python3.10/dist-packages (from datasets) (2.32.3)\n",
            "Requirement already satisfied: tqdm>=4.66.3 in /usr/local/lib/python3.10/dist-packages (from datasets) (4.66.5)\n",
            "Requirement already satisfied: xxhash in /usr/local/lib/python3.10/dist-packages (from datasets) (3.5.0)\n",
            "Requirement already satisfied: multiprocess in /usr/local/lib/python3.10/dist-packages (from datasets) (0.70.16)\n",
            "Requirement already satisfied: fsspec<=2024.6.1,>=2023.1.0 in /usr/local/lib/python3.10/dist-packages (from fsspec[http]<=2024.6.1,>=2023.1.0->datasets) (2024.6.1)\n",
            "Requirement already satisfied: aiohttp in /usr/local/lib/python3.10/dist-packages (from datasets) (3.10.5)\n",
            "Requirement already satisfied: huggingface-hub>=0.21.2 in /usr/local/lib/python3.10/dist-packages (from datasets) (0.23.5)\n",
            "Requirement already satisfied: packaging in /usr/local/lib/python3.10/dist-packages (from datasets) (24.1)\n",
            "Requirement already satisfied: pyyaml>=5.1 in /usr/local/lib/python3.10/dist-packages (from datasets) (6.0.2)\n",
            "Requirement already satisfied: aiohappyeyeballs>=2.3.0 in /usr/local/lib/python3.10/dist-packages (from aiohttp->datasets) (2.4.0)\n",
            "Requirement already satisfied: aiosignal>=1.1.2 in /usr/local/lib/python3.10/dist-packages (from aiohttp->datasets) (1.3.1)\n",
            "Requirement already satisfied: attrs>=17.3.0 in /usr/local/lib/python3.10/dist-packages (from aiohttp->datasets) (24.2.0)\n",
            "Requirement already satisfied: frozenlist>=1.1.1 in /usr/local/lib/python3.10/dist-packages (from aiohttp->datasets) (1.4.1)\n",
            "Requirement already satisfied: multidict<7.0,>=4.5 in /usr/local/lib/python3.10/dist-packages (from aiohttp->datasets) (6.0.5)\n",
            "Requirement already satisfied: yarl<2.0,>=1.0 in /usr/local/lib/python3.10/dist-packages (from aiohttp->datasets) (1.9.4)\n",
            "Requirement already satisfied: async-timeout<5.0,>=4.0 in /usr/local/lib/python3.10/dist-packages (from aiohttp->datasets) (4.0.3)\n",
            "Requirement already satisfied: typing-extensions>=3.7.4.3 in /usr/local/lib/python3.10/dist-packages (from huggingface-hub>=0.21.2->datasets) (4.12.2)\n",
            "Requirement already satisfied: charset-normalizer<4,>=2 in /usr/local/lib/python3.10/dist-packages (from requests>=2.32.2->datasets) (3.3.2)\n",
            "Requirement already satisfied: idna<4,>=2.5 in /usr/local/lib/python3.10/dist-packages (from requests>=2.32.2->datasets) (3.7)\n",
            "Requirement already satisfied: urllib3<3,>=1.21.1 in /usr/local/lib/python3.10/dist-packages (from requests>=2.32.2->datasets) (2.0.7)\n",
            "Requirement already satisfied: certifi>=2017.4.17 in /usr/local/lib/python3.10/dist-packages (from requests>=2.32.2->datasets) (2024.7.4)\n",
            "Requirement already satisfied: python-dateutil>=2.8.2 in /usr/local/lib/python3.10/dist-packages (from pandas->datasets) (2.8.2)\n",
            "Requirement already satisfied: pytz>=2020.1 in /usr/local/lib/python3.10/dist-packages (from pandas->datasets) (2024.1)\n",
            "Requirement already satisfied: tzdata>=2022.1 in /usr/local/lib/python3.10/dist-packages (from pandas->datasets) (2024.1)\n",
            "Requirement already satisfied: six>=1.5 in /usr/local/lib/python3.10/dist-packages (from python-dateutil>=2.8.2->pandas->datasets) (1.16.0)\n"
          ]
        }
      ]
    },
    {
      "cell_type": "code",
      "source": [
        "import torch\n",
        "import numpy as np\n",
        "from transformers import AutoModelForTokenClassification, AutoTokenizer, TrainingArguments, Trainer, DataCollatorForTokenClassification\n",
        "from datasets import Dataset, DatasetDict\n",
        "from sklearn.metrics import f1_score, accuracy_score\n",
        "from sklearn.model_selection import train_test_split\n",
        "import pandas as pd\n",
        "import re\n",
        "import nltk\n",
        "from nltk.corpus import stopwords"
      ],
      "metadata": {
        "id": "OgttCCdWMNE_"
      },
      "execution_count": null,
      "outputs": []
    },
    {
      "cell_type": "code",
      "source": [
        "# Download stopwords from nltk\n",
        "nltk.download('stopwords')\n",
        "stop_words = set(stopwords.words('english'))  # Get English stopwords\n",
        "\n",
        "# Set the random seed for reproducibility\n",
        "torch.manual_seed(0)\n",
        "\n",
        "# Define model checkpoint and tokenizer with add_prefix_space=True\n",
        "model_checkpoint = \"distilroberta-base\"  # Replace with your desired model checkpoint\n",
        "tokenizer = AutoTokenizer.from_pretrained(model_checkpoint, add_prefix_space=True)  # Important for pre-tokenized inputs\n",
        "\n",
        "# Load dataset from the Excel file\n",
        "data = pd.read_excel(file_path)"
      ],
      "metadata": {
        "colab": {
          "base_uri": "https://localhost:8080/"
        },
        "collapsed": true,
        "id": "qcR8zR4RRF2x",
        "outputId": "03b94fb1-26ff-4321-d1f3-e2ba3f81b2f8"
      },
      "execution_count": null,
      "outputs": [
        {
          "output_type": "stream",
          "name": "stderr",
          "text": [
            "[nltk_data] Downloading package stopwords to /root/nltk_data...\n",
            "[nltk_data]   Package stopwords is already up-to-date!\n"
          ]
        }
      ]
    },
    {
      "cell_type": "code",
      "source": [
        "# Prepare data by grouping words and labels for each job description\n",
        "def prepare_data(data):\n",
        "    examples = {\"tokens\": [], \"labels\": []}\n",
        "    grouped = data.groupby('job_description')\n",
        "    for job_desc, group in grouped:\n",
        "        words = group['word'].tolist()\n",
        "        labels = group['final'].tolist()\n",
        "        examples[\"tokens\"].append(words)\n",
        "        examples[\"labels\"].append(labels)\n",
        "    return examples\n",
        "\n",
        "# Use the prepare_data function to get tokens and labels\n",
        "examples = prepare_data(data)\n",
        "\n",
        "# Split the data into training and validation sets\n",
        "train_examples, val_examples = train_test_split(\n",
        "    list(zip(examples[\"tokens\"], examples[\"labels\"])), test_size=0.2, random_state=42\n",
        ")\n",
        "\n",
        "# Convert back to the dictionary format expected by the tokenizer\n",
        "train_data = {\"tokens\": [x[0] for x in train_examples], \"labels\": [x[1] for x in train_examples]}\n",
        "val_data = {\"tokens\": [x[0] for x in val_examples], \"labels\": [x[1] for x in val_examples]}"
      ],
      "metadata": {
        "id": "96HvsG8XRMuc"
      },
      "execution_count": null,
      "outputs": []
    },
    {
      "cell_type": "code",
      "source": [
        "# Data Preparation: Tokenization and Label Alignment\n",
        "def tokenize_and_align_labels(examples):\n",
        "    tokenized_inputs = tokenizer(examples[\"tokens\"], truncation=True, is_split_into_words=True)\n",
        "    labels = []\n",
        "    for i, label in enumerate(examples[\"labels\"]):\n",
        "        word_ids = tokenized_inputs.word_ids(batch_index=i)\n",
        "        previous_word_idx = None\n",
        "        label_ids = []\n",
        "        for word_idx in word_ids:\n",
        "            if word_idx is None:\n",
        "                label_ids.append(-100)  # Ignore special tokens like padding\n",
        "            elif word_idx != previous_word_idx:\n",
        "                label_ids.append(label[word_idx])  # Use the label of the first word piece\n",
        "            else:\n",
        "                label_ids.append(-100)  # Ignore subsequent pieces of split words\n",
        "            previous_word_idx = word_idx\n",
        "        labels.append(label_ids)\n",
        "    tokenized_inputs[\"labels\"] = labels\n",
        "    return tokenized_inputs"
      ],
      "metadata": {
        "id": "wdnWt-p-RP8X"
      },
      "execution_count": null,
      "outputs": []
    },
    {
      "cell_type": "code",
      "source": [
        "# Convert to Hugging Face Dataset format\n",
        "train_dataset = Dataset.from_dict(tokenize_and_align_labels(train_data))\n",
        "val_dataset = Dataset.from_dict(tokenize_and_align_labels(val_data))\n",
        "\n",
        "# Load the model for token classification\n",
        "model = AutoModelForTokenClassification.from_pretrained(model_checkpoint, num_labels=2)"
      ],
      "metadata": {
        "colab": {
          "base_uri": "https://localhost:8080/"
        },
        "id": "nTpOTiYaRTxR",
        "outputId": "993e15fb-0130-47d0-f769-6994c613d423"
      },
      "execution_count": null,
      "outputs": [
        {
          "output_type": "stream",
          "name": "stderr",
          "text": [
            "Some weights of RobertaForTokenClassification were not initialized from the model checkpoint at distilroberta-base and are newly initialized: ['classifier.bias', 'classifier.weight']\n",
            "You should probably TRAIN this model on a down-stream task to be able to use it for predictions and inference.\n"
          ]
        }
      ]
    },
    {
      "cell_type": "code",
      "source": [
        "# Move the model to the GPU if available\n",
        "device = torch.device('cuda' if torch.cuda.is_available() else 'cpu')\n",
        "model.to(device)"
      ],
      "metadata": {
        "colab": {
          "base_uri": "https://localhost:8080/"
        },
        "id": "ic2hwgWNRXym",
        "outputId": "7df8cfa6-a874-4b59-b37f-9f70b3ed9572"
      },
      "execution_count": null,
      "outputs": [
        {
          "output_type": "execute_result",
          "data": {
            "text/plain": [
              "RobertaForTokenClassification(\n",
              "  (roberta): RobertaModel(\n",
              "    (embeddings): RobertaEmbeddings(\n",
              "      (word_embeddings): Embedding(50265, 768, padding_idx=1)\n",
              "      (position_embeddings): Embedding(514, 768, padding_idx=1)\n",
              "      (token_type_embeddings): Embedding(1, 768)\n",
              "      (LayerNorm): LayerNorm((768,), eps=1e-05, elementwise_affine=True)\n",
              "      (dropout): Dropout(p=0.1, inplace=False)\n",
              "    )\n",
              "    (encoder): RobertaEncoder(\n",
              "      (layer): ModuleList(\n",
              "        (0-5): 6 x RobertaLayer(\n",
              "          (attention): RobertaAttention(\n",
              "            (self): RobertaSelfAttention(\n",
              "              (query): Linear(in_features=768, out_features=768, bias=True)\n",
              "              (key): Linear(in_features=768, out_features=768, bias=True)\n",
              "              (value): Linear(in_features=768, out_features=768, bias=True)\n",
              "              (dropout): Dropout(p=0.1, inplace=False)\n",
              "            )\n",
              "            (output): RobertaSelfOutput(\n",
              "              (dense): Linear(in_features=768, out_features=768, bias=True)\n",
              "              (LayerNorm): LayerNorm((768,), eps=1e-05, elementwise_affine=True)\n",
              "              (dropout): Dropout(p=0.1, inplace=False)\n",
              "            )\n",
              "          )\n",
              "          (intermediate): RobertaIntermediate(\n",
              "            (dense): Linear(in_features=768, out_features=3072, bias=True)\n",
              "            (intermediate_act_fn): GELUActivation()\n",
              "          )\n",
              "          (output): RobertaOutput(\n",
              "            (dense): Linear(in_features=3072, out_features=768, bias=True)\n",
              "            (LayerNorm): LayerNorm((768,), eps=1e-05, elementwise_affine=True)\n",
              "            (dropout): Dropout(p=0.1, inplace=False)\n",
              "          )\n",
              "        )\n",
              "      )\n",
              "    )\n",
              "  )\n",
              "  (dropout): Dropout(p=0.1, inplace=False)\n",
              "  (classifier): Linear(in_features=768, out_features=2, bias=True)\n",
              ")"
            ]
          },
          "metadata": {},
          "execution_count": 36
        }
      ]
    },
    {
      "cell_type": "code",
      "source": [
        "# Compute metrics function for model evaluation\n",
        "def compute_metrics(p):\n",
        "    predictions, labels = p\n",
        "    predictions = np.argmax(predictions, axis=-1)\n",
        "\n",
        "    # Remove ignored index (special tokens) and flatten the output\n",
        "    true_predictions = [\n",
        "        p for prediction, label in zip(predictions, labels)\n",
        "        for (p, l) in zip(prediction, label) if l != -100\n",
        "    ]\n",
        "    true_labels = [\n",
        "        l for prediction, label in zip(predictions, labels)\n",
        "        for (p, l) in zip(prediction, label) if l != -100\n",
        "    ]\n",
        "\n",
        "    # Calculate metrics\n",
        "    accuracy = accuracy_score(y_true=true_labels, y_pred=true_predictions)\n",
        "    f1_macro = f1_score(y_true=true_labels, y_pred=true_predictions, average=\"macro\")\n",
        "    f1_class_1 = f1_score(y_true=true_labels, y_pred=true_predictions, labels=[1], average=\"macro\")\n",
        "    f1_class_0 = f1_score(y_true=true_labels, y_pred=true_predictions, labels=[0], average=\"macro\")\n",
        "\n",
        "    return {\n",
        "        'accuracy': accuracy,\n",
        "        'f1_macro': f1_macro,\n",
        "        'f1_class_1': f1_class_1,\n",
        "        'f1_class_0': f1_class_0\n",
        "    }"
      ],
      "metadata": {
        "id": "eC6WM2cLRdLk"
      },
      "execution_count": null,
      "outputs": []
    },
    {
      "cell_type": "code",
      "source": [
        "# Define training arguments\n",
        "batch_size = 16  # Adjust as needed\n",
        "args = TrainingArguments(\n",
        "    output_dir=f\"{model_checkpoint}-finetuned-keyword\",\n",
        "    eval_strategy=\"epoch\",  # Changed from evaluation_strategy to eval_strategy\n",
        "    save_strategy=\"epoch\",\n",
        "    logging_strategy=\"epoch\",\n",
        "    learning_rate=8e-6,\n",
        "    per_device_train_batch_size=batch_size,\n",
        "    per_device_eval_batch_size=batch_size,\n",
        "    num_train_epochs=6,\n",
        "    lr_scheduler_type=\"linear\",\n",
        "    seed=0,\n",
        "    load_best_model_at_end=True\n",
        ")\n",
        "\n",
        "# Data collator for token classification\n",
        "data_collator = DataCollatorForTokenClassification(tokenizer)\n",
        "\n",
        "# Initialize the Trainer\n",
        "trainer = Trainer(\n",
        "    model=model,\n",
        "    args=args,\n",
        "    train_dataset=train_dataset,  # Training dataset\n",
        "    eval_dataset=val_dataset,  # Validation dataset\n",
        "    data_collator=data_collator,\n",
        "    tokenizer=tokenizer,\n",
        "    compute_metrics=compute_metrics\n",
        ")"
      ],
      "metadata": {
        "id": "CL_KUa5QQR0L"
      },
      "execution_count": null,
      "outputs": []
    },
    {
      "cell_type": "code",
      "source": [
        "# Start training\n",
        "trainer.train()\n",
        "\n",
        "# Save the best model\n",
        "trainer.save_model(\"best_model\")"
      ],
      "metadata": {
        "colab": {
          "base_uri": "https://localhost:8080/",
          "height": 263
        },
        "id": "Nx5zX-gtWO5S",
        "outputId": "5cc08853-1ea9-444e-f956-a35f75438d3b"
      },
      "execution_count": null,
      "outputs": [
        {
          "output_type": "display_data",
          "data": {
            "text/plain": [
              "<IPython.core.display.HTML object>"
            ],
            "text/html": [
              "\n",
              "    <div>\n",
              "      \n",
              "      <progress value='72' max='72' style='width:300px; height:20px; vertical-align: middle;'></progress>\n",
              "      [72/72 01:46, Epoch 6/6]\n",
              "    </div>\n",
              "    <table border=\"1\" class=\"dataframe\">\n",
              "  <thead>\n",
              " <tr style=\"text-align: left;\">\n",
              "      <th>Epoch</th>\n",
              "      <th>Training Loss</th>\n",
              "      <th>Validation Loss</th>\n",
              "      <th>Accuracy</th>\n",
              "      <th>F1 Macro</th>\n",
              "      <th>F1 Class 1</th>\n",
              "      <th>F1 Class 0</th>\n",
              "    </tr>\n",
              "  </thead>\n",
              "  <tbody>\n",
              "    <tr>\n",
              "      <td>1</td>\n",
              "      <td>0.621500</td>\n",
              "      <td>0.484459</td>\n",
              "      <td>0.750542</td>\n",
              "      <td>0.447833</td>\n",
              "      <td>0.038997</td>\n",
              "      <td>0.856668</td>\n",
              "    </tr>\n",
              "    <tr>\n",
              "      <td>2</td>\n",
              "      <td>0.428400</td>\n",
              "      <td>0.341856</td>\n",
              "      <td>0.823572</td>\n",
              "      <td>0.682430</td>\n",
              "      <td>0.470716</td>\n",
              "      <td>0.894143</td>\n",
              "    </tr>\n",
              "    <tr>\n",
              "      <td>3</td>\n",
              "      <td>0.264400</td>\n",
              "      <td>0.206873</td>\n",
              "      <td>0.962401</td>\n",
              "      <td>0.948789</td>\n",
              "      <td>0.922388</td>\n",
              "      <td>0.975191</td>\n",
              "    </tr>\n",
              "    <tr>\n",
              "      <td>4</td>\n",
              "      <td>0.166200</td>\n",
              "      <td>0.125802</td>\n",
              "      <td>0.978670</td>\n",
              "      <td>0.972038</td>\n",
              "      <td>0.958421</td>\n",
              "      <td>0.985655</td>\n",
              "    </tr>\n",
              "    <tr>\n",
              "      <td>5</td>\n",
              "      <td>0.108500</td>\n",
              "      <td>0.086277</td>\n",
              "      <td>0.980477</td>\n",
              "      <td>0.974467</td>\n",
              "      <td>0.962079</td>\n",
              "      <td>0.986855</td>\n",
              "    </tr>\n",
              "    <tr>\n",
              "      <td>6</td>\n",
              "      <td>0.084800</td>\n",
              "      <td>0.074725</td>\n",
              "      <td>0.981200</td>\n",
              "      <td>0.975367</td>\n",
              "      <td>0.963380</td>\n",
              "      <td>0.987354</td>\n",
              "    </tr>\n",
              "  </tbody>\n",
              "</table><p>"
            ]
          },
          "metadata": {}
        }
      ]
    },
    {
      "cell_type": "code",
      "source": [
        "\n",
        "# Keyword Cleaning Function\n",
        "def clean_keyword(keyword):\n",
        "    allowed_punctuation = {'#', '.', '+'}\n",
        "    cleaned = ''.join([char for char in keyword if char.isalnum() or char in allowed_punctuation or char.isspace()])\n",
        "    cleaned_words = [word for word in cleaned.split() if word.lower() not in stop_words]\n",
        "    cleaned_keyword = ' '.join(cleaned_words)\n",
        "    return cleaned_keyword\n",
        "\n",
        "# Keyword Extraction Function\n",
        "def extract_keywords_model(data, batch_size=2):\n",
        "    keywords = []\n",
        "    for idx in range(0, len(data), batch_size):\n",
        "        inputs = tokenizer(data[idx: idx + batch_size], return_tensors='pt', padding=True, truncation=True).to(device)\n",
        "        outputs = model(**inputs)\n",
        "        predictions = torch.softmax(outputs.logits, dim=-1).argmax(-1)\n",
        "\n",
        "        for idx_item in range(predictions.shape[0]):\n",
        "            indices_single = []\n",
        "            keywords_item = []\n",
        "            for idx, label in enumerate(predictions[idx_item].tolist()):\n",
        "                if label == 1:\n",
        "                    indices_single.append(idx)\n",
        "                elif label == 0 and len(indices_single) > 0:\n",
        "                    decoded_keyword = tokenizer.decode(inputs.input_ids[idx_item][indices_single], skip_special_tokens=True).strip()\n",
        "                    cleaned_keyword = clean_keyword(decoded_keyword)\n",
        "                    if cleaned_keyword and not any(tok in cleaned_keyword for tok in [\"<pad>\", \"</s>\", \"<s>\", \"[SEP]\"]):\n",
        "                        keywords_item.append(cleaned_keyword)\n",
        "                    indices_single = []\n",
        "            if len(indices_single) > 0:\n",
        "                decoded_keyword = tokenizer.decode(inputs.input_ids[idx_item][indices_single], skip_special_tokens=True).strip()\n",
        "                cleaned_keyword = clean_keyword(decoded_keyword)\n",
        "                if cleaned_keyword and not any(tok in cleaned_keyword for tok in [\"<pad>\", \"</s>\", \"<s>\", \"[SEP]\"]):\n",
        "                    keywords_item.append(cleaned_keyword)\n",
        "            keywords.append(keywords_item)\n",
        "    return keywords"
      ],
      "metadata": {
        "id": "q62zaTqiRjPA"
      },
      "execution_count": null,
      "outputs": []
    },
    {
      "cell_type": "code",
      "source": [
        "\n",
        "# Test the keyword extraction function with new data\n",
        "new_data = [\n",
        "    \"The software developer must have experience in C++, .NET, and WPF.\",\n",
        "    \"We are looking for a data scientist with skills in SQL, Python, machine learning, and data analysis.\",\n",
        "    \"We are hiring a Senior Full Stack Developer. Proficient with: Node, React, Web Development, AWS infrastructure\"\n",
        "]\n",
        "\n",
        "# Extract keywords\n",
        "model_keywords = extract_keywords_model(new_data)\n",
        "\n",
        "model_keywords = [list(set(keywords)) for keywords in model_keywords]  # Remove duplicates\n",
        "model_keywords = [sorted(keywords) for keywords in model_keywords]  # Sort alphabetically\n",
        "formatted_keywords = [', '.join(keywords) for keywords in model_keywords]  # Format as a string\n",
        "\n",
        "# Display the results\n",
        "for i, keywords_str in enumerate(formatted_keywords):\n",
        "    print(f\"Formatted Keywords in text {i+1}: {keywords_str}\")"
      ],
      "metadata": {
        "colab": {
          "base_uri": "https://localhost:8080/"
        },
        "id": "QJo3JszuRmWV",
        "outputId": "59561e61-c554-4851-c6cc-7a0bef086caa"
      },
      "execution_count": null,
      "outputs": [
        {
          "output_type": "stream",
          "name": "stdout",
          "text": [
            "Formatted Keywords in text 1: experience C++.NET WPF., software developer must\n",
            "Formatted Keywords in text 2: looking data scientist skills SQL Python machine learning data analysis.\n",
            "Formatted Keywords in text 3: hiring Senior Full Stack Developer. Proficient Node React Web Development AWS infrastructure\n"
          ]
        }
      ]
    },
    {
      "cell_type": "markdown",
      "source": [
        "save model test1"
      ],
      "metadata": {
        "id": "VOlI1HXqmKij"
      }
    },
    {
      "cell_type": "code",
      "source": [
        "#locally:\n",
        "# Save the model and tokenizer locally\n",
        "save_directory = \"./fine-tuned-keyword-extraction-230824-test1\"\n",
        "model.save_pretrained(save_directory)\n",
        "tokenizer.save_pretrained(save_directory)\n"
      ],
      "metadata": {
        "colab": {
          "base_uri": "https://localhost:8080/"
        },
        "id": "zYhjTi1YmN2s",
        "outputId": "63d15167-f513-465b-9738-cd4987ccc412"
      },
      "execution_count": null,
      "outputs": [
        {
          "output_type": "execute_result",
          "data": {
            "text/plain": [
              "('./fine-tuned-keyword-extraction-230824-test1/tokenizer_config.json',\n",
              " './fine-tuned-keyword-extraction-230824-test1/special_tokens_map.json',\n",
              " './fine-tuned-keyword-extraction-230824-test1/vocab.json',\n",
              " './fine-tuned-keyword-extraction-230824-test1/merges.txt',\n",
              " './fine-tuned-keyword-extraction-230824-test1/added_tokens.json',\n",
              " './fine-tuned-keyword-extraction-230824-test1/tokenizer.json')"
            ]
          },
          "metadata": {},
          "execution_count": 42
        }
      ]
    },
    {
      "cell_type": "code",
      "source": [
        "# Load the saved model and tokenizer to verify they were saved correctly\n",
        "loaded_model = AutoModelForTokenClassification.from_pretrained(save_directory)\n",
        "loaded_tokenizer = AutoTokenizer.from_pretrained(save_directory)\n"
      ],
      "metadata": {
        "id": "IGxbv1vMmZSB"
      },
      "execution_count": null,
      "outputs": []
    },
    {
      "cell_type": "code",
      "source": [
        "# Save the state of the trainer (including optimizer, scheduler, etc.)\n",
        "trainer.save_state()\n"
      ],
      "metadata": {
        "id": "hr51nvLvmefT"
      },
      "execution_count": null,
      "outputs": []
    },
    {
      "cell_type": "code",
      "source": [
        "# Save the model and tokenizer to Google Drive\n",
        "drive_save_directory = '/content/drive/MyDrive/fine-tuned-keyword-extraction-230824-test1'\n",
        "model.save_pretrained(drive_save_directory)\n",
        "tokenizer.save_pretrained(drive_save_directory)\n"
      ],
      "metadata": {
        "id": "j_CGviYgmjm9"
      },
      "execution_count": null,
      "outputs": []
    },
    {
      "cell_type": "markdown",
      "source": [
        "test2 23.08.24"
      ],
      "metadata": {
        "id": "40jg3Jz_lojO"
      }
    },
    {
      "cell_type": "code",
      "source": [
        "file_path='/content/drive/MyDrive/פרויקט גמר ניסן והדר/new/data_final.xlsx'"
      ],
      "metadata": {
        "id": "BAVsQUedl8YZ"
      },
      "execution_count": null,
      "outputs": []
    },
    {
      "cell_type": "code",
      "source": [
        "pip install datasets"
      ],
      "metadata": {
        "colab": {
          "base_uri": "https://localhost:8080/"
        },
        "collapsed": true,
        "id": "GstzTSPrl9Ey",
        "outputId": "e6e6ff32-3a5a-4c1a-93d4-839215736178"
      },
      "execution_count": null,
      "outputs": [
        {
          "output_type": "stream",
          "name": "stdout",
          "text": [
            "Requirement already satisfied: datasets in /usr/local/lib/python3.10/dist-packages (2.21.0)\n",
            "Requirement already satisfied: filelock in /usr/local/lib/python3.10/dist-packages (from datasets) (3.15.4)\n",
            "Requirement already satisfied: numpy>=1.17 in /usr/local/lib/python3.10/dist-packages (from datasets) (1.26.4)\n",
            "Requirement already satisfied: pyarrow>=15.0.0 in /usr/local/lib/python3.10/dist-packages (from datasets) (17.0.0)\n",
            "Requirement already satisfied: dill<0.3.9,>=0.3.0 in /usr/local/lib/python3.10/dist-packages (from datasets) (0.3.8)\n",
            "Requirement already satisfied: pandas in /usr/local/lib/python3.10/dist-packages (from datasets) (2.1.4)\n",
            "Requirement already satisfied: requests>=2.32.2 in /usr/local/lib/python3.10/dist-packages (from datasets) (2.32.3)\n",
            "Requirement already satisfied: tqdm>=4.66.3 in /usr/local/lib/python3.10/dist-packages (from datasets) (4.66.5)\n",
            "Requirement already satisfied: xxhash in /usr/local/lib/python3.10/dist-packages (from datasets) (3.5.0)\n",
            "Requirement already satisfied: multiprocess in /usr/local/lib/python3.10/dist-packages (from datasets) (0.70.16)\n",
            "Requirement already satisfied: fsspec<=2024.6.1,>=2023.1.0 in /usr/local/lib/python3.10/dist-packages (from fsspec[http]<=2024.6.1,>=2023.1.0->datasets) (2024.6.1)\n",
            "Requirement already satisfied: aiohttp in /usr/local/lib/python3.10/dist-packages (from datasets) (3.10.5)\n",
            "Requirement already satisfied: huggingface-hub>=0.21.2 in /usr/local/lib/python3.10/dist-packages (from datasets) (0.23.5)\n",
            "Requirement already satisfied: packaging in /usr/local/lib/python3.10/dist-packages (from datasets) (24.1)\n",
            "Requirement already satisfied: pyyaml>=5.1 in /usr/local/lib/python3.10/dist-packages (from datasets) (6.0.2)\n",
            "Requirement already satisfied: aiohappyeyeballs>=2.3.0 in /usr/local/lib/python3.10/dist-packages (from aiohttp->datasets) (2.4.0)\n",
            "Requirement already satisfied: aiosignal>=1.1.2 in /usr/local/lib/python3.10/dist-packages (from aiohttp->datasets) (1.3.1)\n",
            "Requirement already satisfied: attrs>=17.3.0 in /usr/local/lib/python3.10/dist-packages (from aiohttp->datasets) (24.2.0)\n",
            "Requirement already satisfied: frozenlist>=1.1.1 in /usr/local/lib/python3.10/dist-packages (from aiohttp->datasets) (1.4.1)\n",
            "Requirement already satisfied: multidict<7.0,>=4.5 in /usr/local/lib/python3.10/dist-packages (from aiohttp->datasets) (6.0.5)\n",
            "Requirement already satisfied: yarl<2.0,>=1.0 in /usr/local/lib/python3.10/dist-packages (from aiohttp->datasets) (1.9.4)\n",
            "Requirement already satisfied: async-timeout<5.0,>=4.0 in /usr/local/lib/python3.10/dist-packages (from aiohttp->datasets) (4.0.3)\n",
            "Requirement already satisfied: typing-extensions>=3.7.4.3 in /usr/local/lib/python3.10/dist-packages (from huggingface-hub>=0.21.2->datasets) (4.12.2)\n",
            "Requirement already satisfied: charset-normalizer<4,>=2 in /usr/local/lib/python3.10/dist-packages (from requests>=2.32.2->datasets) (3.3.2)\n",
            "Requirement already satisfied: idna<4,>=2.5 in /usr/local/lib/python3.10/dist-packages (from requests>=2.32.2->datasets) (3.7)\n",
            "Requirement already satisfied: urllib3<3,>=1.21.1 in /usr/local/lib/python3.10/dist-packages (from requests>=2.32.2->datasets) (2.0.7)\n",
            "Requirement already satisfied: certifi>=2017.4.17 in /usr/local/lib/python3.10/dist-packages (from requests>=2.32.2->datasets) (2024.7.4)\n",
            "Requirement already satisfied: python-dateutil>=2.8.2 in /usr/local/lib/python3.10/dist-packages (from pandas->datasets) (2.8.2)\n",
            "Requirement already satisfied: pytz>=2020.1 in /usr/local/lib/python3.10/dist-packages (from pandas->datasets) (2024.1)\n",
            "Requirement already satisfied: tzdata>=2022.1 in /usr/local/lib/python3.10/dist-packages (from pandas->datasets) (2024.1)\n",
            "Requirement already satisfied: six>=1.5 in /usr/local/lib/python3.10/dist-packages (from python-dateutil>=2.8.2->pandas->datasets) (1.16.0)\n"
          ]
        }
      ]
    },
    {
      "cell_type": "code",
      "source": [
        "import torch\n",
        "import numpy as np\n",
        "from transformers import AutoModelForTokenClassification, AutoTokenizer, TrainingArguments, Trainer, DataCollatorForTokenClassification\n",
        "from datasets import Dataset\n",
        "from sklearn.metrics import f1_score, accuracy_score\n",
        "from sklearn.model_selection import train_test_split  # Add this import\n",
        "import pandas as pd\n",
        "import nltk\n",
        "from nltk.corpus import stopwords"
      ],
      "metadata": {
        "id": "K_PpiOsmtZ7o"
      },
      "execution_count": null,
      "outputs": []
    },
    {
      "cell_type": "code",
      "source": [
        "# Download stopwords from nltk\n",
        "nltk.download('stopwords')\n",
        "stop_words = set(stopwords.words('english'))  # Get English stopwords\n",
        "\n",
        "# Set the random seed for reproducibility\n",
        "torch.manual_seed(0)\n",
        "\n",
        "# Define model checkpoint and tokenizer with add_prefix_space=True\n",
        "model_checkpoint = \"distilroberta-base\"  # Replace with your desired model checkpoint\n",
        "tokenizer = AutoTokenizer.from_pretrained(model_checkpoint, add_prefix_space=True)  # Important for pre-tokenized inputs\n",
        "\n",
        "# Load dataset from the Excel file\n",
        "data = pd.read_excel(file_path)"
      ],
      "metadata": {
        "colab": {
          "base_uri": "https://localhost:8080/"
        },
        "id": "3Gdu14gwtf6X",
        "outputId": "303af5f5-d8fc-4151-8147-495be49c5a4e"
      },
      "execution_count": null,
      "outputs": [
        {
          "output_type": "stream",
          "name": "stderr",
          "text": [
            "[nltk_data] Downloading package stopwords to /root/nltk_data...\n",
            "[nltk_data]   Unzipping corpora/stopwords.zip.\n"
          ]
        }
      ]
    },
    {
      "cell_type": "code",
      "source": [
        "# Prepare data by grouping words and labels for each job description\n",
        "def prepare_data(data):\n",
        "    examples = {\"tokens\": [], \"labels\": []}\n",
        "    grouped = data.groupby('job_description')\n",
        "    for job_desc, group in grouped:\n",
        "        words = group['word'].tolist()\n",
        "        labels = group['final'].tolist()\n",
        "        examples[\"tokens\"].append(words)\n",
        "        examples[\"labels\"].append(labels)\n",
        "    return examples\n",
        "\n",
        "# Use the prepare_data function to get tokens and labels\n",
        "examples = prepare_data(data)\n",
        "\n",
        "# Split the data into training and validation sets\n",
        "train_examples, val_examples = train_test_split(\n",
        "    list(zip(examples[\"tokens\"], examples[\"labels\"])), test_size=0.2, random_state=42\n",
        ")\n",
        "\n",
        "# Convert back to the dictionary format expected by the tokenizer\n",
        "train_data = {\"tokens\": [x[0] for x in train_examples], \"labels\": [x[1] for x in train_examples]}\n",
        "val_data = {\"tokens\": [x[0] for x in val_examples], \"labels\": [x[1] for x in val_examples]}"
      ],
      "metadata": {
        "id": "IuUB1ZnRtofx"
      },
      "execution_count": null,
      "outputs": []
    },
    {
      "cell_type": "code",
      "source": [
        "# Data Preparation: Tokenization and Label Alignment\n",
        "def tokenize_and_align_labels(examples):\n",
        "    tokenized_inputs = tokenizer(examples[\"tokens\"], truncation=True, is_split_into_words=True)\n",
        "    labels = []\n",
        "    for i, label in enumerate(examples[\"labels\"]):\n",
        "        word_ids = tokenized_inputs.word_ids(batch_index=i)\n",
        "        previous_word_idx = None\n",
        "        label_ids = []\n",
        "        for word_idx in word_ids:\n",
        "            if word_idx is None:\n",
        "                label_ids.append(-100)  # Ignore special tokens like padding\n",
        "            elif word_idx != previous_word_idx:\n",
        "                label_ids.append(label[word_idx])  # Use the label of the first word piece\n",
        "            else:\n",
        "                label_ids.append(-100)  # Ignore subsequent pieces of split words\n",
        "            previous_word_idx = word_idx\n",
        "        labels.append(label_ids)\n",
        "    tokenized_inputs[\"labels\"] = labels\n",
        "    return tokenized_inputs"
      ],
      "metadata": {
        "id": "iO0jIo8VtugH"
      },
      "execution_count": null,
      "outputs": []
    },
    {
      "cell_type": "code",
      "source": [
        "# Convert to Hugging Face Dataset format\n",
        "train_dataset = Dataset.from_dict(tokenize_and_align_labels(train_data))\n",
        "val_dataset = Dataset.from_dict(tokenize_and_align_labels(val_data))\n",
        "\n",
        "# Load the model for token classification\n",
        "model = AutoModelForTokenClassification.from_pretrained(model_checkpoint, num_labels=2)\n",
        "\n",
        "# Move the model to the GPU if available\n",
        "device = torch.device('cuda' if torch.cuda.is_available() else 'cpu')\n",
        "model.to(device)"
      ],
      "metadata": {
        "colab": {
          "base_uri": "https://localhost:8080/"
        },
        "collapsed": true,
        "id": "T3pLHTmttw2A",
        "outputId": "ee67541a-172a-4f0c-a7a5-07f211495918"
      },
      "execution_count": null,
      "outputs": [
        {
          "output_type": "stream",
          "name": "stderr",
          "text": [
            "Some weights of RobertaForTokenClassification were not initialized from the model checkpoint at distilroberta-base and are newly initialized: ['classifier.bias', 'classifier.weight']\n",
            "You should probably TRAIN this model on a down-stream task to be able to use it for predictions and inference.\n"
          ]
        },
        {
          "output_type": "execute_result",
          "data": {
            "text/plain": [
              "RobertaForTokenClassification(\n",
              "  (roberta): RobertaModel(\n",
              "    (embeddings): RobertaEmbeddings(\n",
              "      (word_embeddings): Embedding(50265, 768, padding_idx=1)\n",
              "      (position_embeddings): Embedding(514, 768, padding_idx=1)\n",
              "      (token_type_embeddings): Embedding(1, 768)\n",
              "      (LayerNorm): LayerNorm((768,), eps=1e-05, elementwise_affine=True)\n",
              "      (dropout): Dropout(p=0.1, inplace=False)\n",
              "    )\n",
              "    (encoder): RobertaEncoder(\n",
              "      (layer): ModuleList(\n",
              "        (0-5): 6 x RobertaLayer(\n",
              "          (attention): RobertaAttention(\n",
              "            (self): RobertaSelfAttention(\n",
              "              (query): Linear(in_features=768, out_features=768, bias=True)\n",
              "              (key): Linear(in_features=768, out_features=768, bias=True)\n",
              "              (value): Linear(in_features=768, out_features=768, bias=True)\n",
              "              (dropout): Dropout(p=0.1, inplace=False)\n",
              "            )\n",
              "            (output): RobertaSelfOutput(\n",
              "              (dense): Linear(in_features=768, out_features=768, bias=True)\n",
              "              (LayerNorm): LayerNorm((768,), eps=1e-05, elementwise_affine=True)\n",
              "              (dropout): Dropout(p=0.1, inplace=False)\n",
              "            )\n",
              "          )\n",
              "          (intermediate): RobertaIntermediate(\n",
              "            (dense): Linear(in_features=768, out_features=3072, bias=True)\n",
              "            (intermediate_act_fn): GELUActivation()\n",
              "          )\n",
              "          (output): RobertaOutput(\n",
              "            (dense): Linear(in_features=3072, out_features=768, bias=True)\n",
              "            (LayerNorm): LayerNorm((768,), eps=1e-05, elementwise_affine=True)\n",
              "            (dropout): Dropout(p=0.1, inplace=False)\n",
              "          )\n",
              "        )\n",
              "      )\n",
              "    )\n",
              "  )\n",
              "  (dropout): Dropout(p=0.1, inplace=False)\n",
              "  (classifier): Linear(in_features=768, out_features=2, bias=True)\n",
              ")"
            ]
          },
          "metadata": {},
          "execution_count": 18
        }
      ]
    },
    {
      "cell_type": "code",
      "source": [
        "# Compute metrics function for model evaluation\n",
        "def compute_metrics(p):\n",
        "    predictions, labels = p\n",
        "    predictions = np.argmax(predictions, axis=-1)\n",
        "\n",
        "    # Remove ignored index (special tokens) and flatten the output\n",
        "    true_predictions = [\n",
        "        p for prediction, label in zip(predictions, labels)\n",
        "        for (p, l) in zip(prediction, label) if l != -100\n",
        "    ]\n",
        "    true_labels = [\n",
        "        l for prediction, label in zip(predictions, labels)\n",
        "        for (p, l) in zip(prediction, label) if l != -100\n",
        "    ]\n",
        "\n",
        "    # Calculate metrics\n",
        "    accuracy = accuracy_score(y_true=true_labels, y_pred=true_predictions)\n",
        "    f1_macro = f1_score(y_true=true_labels, y_pred=true_predictions, average=\"macro\")\n",
        "    f1_class_1 = f1_score(y_true=true_labels, y_pred=true_predictions, labels=[1], average=\"macro\")\n",
        "    f1_class_0 = f1_score(y_true=true_labels, y_pred=true_predictions, labels=[0], average=\"macro\")\n",
        "\n",
        "    return {\n",
        "        'accuracy': accuracy,\n",
        "        'f1_macro': f1_macro,\n",
        "        'f1_class_1': f1_class_1,\n",
        "        'f1_class_0': f1_class_0\n",
        "    }"
      ],
      "metadata": {
        "id": "MDoCUwYDt1hw"
      },
      "execution_count": null,
      "outputs": []
    },
    {
      "cell_type": "code",
      "source": [
        "# Define training arguments\n",
        "batch_size = 16  # Adjust as needed\n",
        "args = TrainingArguments(\n",
        "    output_dir=f\"{model_checkpoint}-finetuned-keyword\",\n",
        "    eval_strategy=\"epoch\",  # Changed from evaluation_strategy to eval_strategy\n",
        "    save_strategy=\"epoch\",\n",
        "    logging_strategy=\"epoch\",\n",
        "    learning_rate=8e-6,\n",
        "    per_device_train_batch_size=batch_size,\n",
        "    per_device_eval_batch_size=batch_size,\n",
        "    num_train_epochs=6,\n",
        "    lr_scheduler_type=\"linear\",\n",
        "    seed=0,\n",
        "    load_best_model_at_end=True\n",
        ")\n",
        "\n",
        "# Data collator for token classification\n",
        "data_collator = DataCollatorForTokenClassification(tokenizer)\n",
        "\n",
        "# Initialize the Trainer\n",
        "trainer = Trainer(\n",
        "    model=model,\n",
        "    args=args,\n",
        "    train_dataset=train_dataset,  # Training dataset\n",
        "    eval_dataset=val_dataset,  # Validation dataset\n",
        "    data_collator=data_collator,\n",
        "    tokenizer=tokenizer,\n",
        "    compute_metrics=compute_metrics\n",
        ")"
      ],
      "metadata": {
        "id": "XZ1fVcKet5ED"
      },
      "execution_count": null,
      "outputs": []
    },
    {
      "cell_type": "code",
      "source": [
        "# Start training\n",
        "trainer.train()\n",
        "\n",
        "# Save the best model\n",
        "trainer.save_model(\"best_model\")"
      ],
      "metadata": {
        "colab": {
          "base_uri": "https://localhost:8080/",
          "height": 263
        },
        "id": "6dKQeqMqt9_h",
        "outputId": "dcd02836-910d-4312-ac56-f8e12ad5421c"
      },
      "execution_count": null,
      "outputs": [
        {
          "output_type": "display_data",
          "data": {
            "text/plain": [
              "<IPython.core.display.HTML object>"
            ],
            "text/html": [
              "\n",
              "    <div>\n",
              "      \n",
              "      <progress value='72' max='72' style='width:300px; height:20px; vertical-align: middle;'></progress>\n",
              "      [72/72 01:24, Epoch 6/6]\n",
              "    </div>\n",
              "    <table border=\"1\" class=\"dataframe\">\n",
              "  <thead>\n",
              " <tr style=\"text-align: left;\">\n",
              "      <th>Epoch</th>\n",
              "      <th>Training Loss</th>\n",
              "      <th>Validation Loss</th>\n",
              "      <th>Accuracy</th>\n",
              "      <th>F1 Macro</th>\n",
              "      <th>F1 Class 1</th>\n",
              "      <th>F1 Class 0</th>\n",
              "    </tr>\n",
              "  </thead>\n",
              "  <tbody>\n",
              "    <tr>\n",
              "      <td>1</td>\n",
              "      <td>0.621500</td>\n",
              "      <td>0.484459</td>\n",
              "      <td>0.750542</td>\n",
              "      <td>0.447833</td>\n",
              "      <td>0.038997</td>\n",
              "      <td>0.856668</td>\n",
              "    </tr>\n",
              "    <tr>\n",
              "      <td>2</td>\n",
              "      <td>0.428400</td>\n",
              "      <td>0.341856</td>\n",
              "      <td>0.823572</td>\n",
              "      <td>0.682430</td>\n",
              "      <td>0.470716</td>\n",
              "      <td>0.894143</td>\n",
              "    </tr>\n",
              "    <tr>\n",
              "      <td>3</td>\n",
              "      <td>0.264400</td>\n",
              "      <td>0.206873</td>\n",
              "      <td>0.962401</td>\n",
              "      <td>0.948789</td>\n",
              "      <td>0.922388</td>\n",
              "      <td>0.975191</td>\n",
              "    </tr>\n",
              "    <tr>\n",
              "      <td>4</td>\n",
              "      <td>0.166200</td>\n",
              "      <td>0.125802</td>\n",
              "      <td>0.978670</td>\n",
              "      <td>0.972038</td>\n",
              "      <td>0.958421</td>\n",
              "      <td>0.985655</td>\n",
              "    </tr>\n",
              "    <tr>\n",
              "      <td>5</td>\n",
              "      <td>0.108500</td>\n",
              "      <td>0.086277</td>\n",
              "      <td>0.980477</td>\n",
              "      <td>0.974467</td>\n",
              "      <td>0.962079</td>\n",
              "      <td>0.986855</td>\n",
              "    </tr>\n",
              "    <tr>\n",
              "      <td>6</td>\n",
              "      <td>0.084800</td>\n",
              "      <td>0.074725</td>\n",
              "      <td>0.981200</td>\n",
              "      <td>0.975367</td>\n",
              "      <td>0.963380</td>\n",
              "      <td>0.987354</td>\n",
              "    </tr>\n",
              "  </tbody>\n",
              "</table><p>"
            ]
          },
          "metadata": {}
        }
      ]
    },
    {
      "cell_type": "code",
      "source": [
        "# Evaluate the model on the validation set\n",
        "evaluation_results = trainer.evaluate()\n",
        "print(\"Evaluation Results:\")\n",
        "for key, value in evaluation_results.items():\n",
        "    print(f\"{key}: {value:.4f}\")"
      ],
      "metadata": {
        "colab": {
          "base_uri": "https://localhost:8080/",
          "height": 211
        },
        "id": "Br2E-7t8uANy",
        "outputId": "dde17ef7-e0cc-4d2f-faea-20cda3fedc49"
      },
      "execution_count": null,
      "outputs": [
        {
          "output_type": "display_data",
          "data": {
            "text/plain": [
              "<IPython.core.display.HTML object>"
            ],
            "text/html": [
              "\n",
              "    <div>\n",
              "      \n",
              "      <progress value='3' max='3' style='width:300px; height:20px; vertical-align: middle;'></progress>\n",
              "      [3/3 00:00]\n",
              "    </div>\n",
              "    "
            ]
          },
          "metadata": {}
        },
        {
          "output_type": "stream",
          "name": "stdout",
          "text": [
            "Evaluation Results:\n",
            "eval_loss: 0.0747\n",
            "eval_accuracy: 0.9812\n",
            "eval_f1_macro: 0.9754\n",
            "eval_f1_class_1: 0.9634\n",
            "eval_f1_class_0: 0.9874\n",
            "eval_runtime: 0.5687\n",
            "eval_samples_per_second: 80.8790\n",
            "eval_steps_per_second: 5.2750\n",
            "epoch: 6.0000\n"
          ]
        }
      ]
    },
    {
      "cell_type": "code",
      "source": [
        "# Keyword Cleaning Function\n",
        "def clean_keyword(keyword):\n",
        "    allowed_punctuation = {'#', '.', '+'}\n",
        "    cleaned = ''.join([char for char in keyword if char.isalnum() or char in allowed_punctuation or char.isspace()])\n",
        "    cleaned_words = [word for word in cleaned.split() if word.lower() not in stop_words]\n",
        "    cleaned_keyword = ' '.join(cleaned_words)\n",
        "    return cleaned_keyword\n",
        "\n",
        "# Keyword Extraction Function\n",
        "def extract_keywords_model(data, batch_size=2):\n",
        "    keywords = []\n",
        "    for idx in range(0, len(data), batch_size):\n",
        "        inputs = tokenizer(data[idx: idx + batch_size], return_tensors='pt', padding=True, truncation=True).to(device)\n",
        "        outputs = model(**inputs)\n",
        "        predictions = torch.softmax(outputs.logits, dim=-1).argmax(-1)\n",
        "\n",
        "        for idx_item in range(predictions.shape[0]):\n",
        "            indices_single = []\n",
        "            keywords_item = []\n",
        "            for idx, label in enumerate(predictions[idx_item].tolist()):\n",
        "                if label == 1:\n",
        "                    indices_single.append(idx)\n",
        "                elif label == 0 and len(indices_single) > 0:\n",
        "                    decoded_keyword = tokenizer.decode(inputs.input_ids[idx_item][indices_single], skip_special_tokens=True).strip()\n",
        "                    cleaned_keyword = clean_keyword(decoded_keyword)\n",
        "                    if cleaned_keyword and not any(tok in cleaned_keyword for tok in [\"<pad>\", \"</s>\", \"<s>\", \"[SEP]\"]):\n",
        "                        keywords_item.append(cleaned_keyword)\n",
        "                    indices_single = []\n",
        "            if len(indices_single) > 0:\n",
        "                decoded_keyword = tokenizer.decode(inputs.input_ids[idx_item][indices_single], skip_special_tokens=True).strip()\n",
        "                cleaned_keyword = clean_keyword(decoded_keyword)\n",
        "                if cleaned_keyword and not any(tok in cleaned_keyword for tok in [\"<pad>\", \"</s>\", \"<s>\", \"[SEP]\"]):\n",
        "                    keywords_item.append(cleaned_keyword)\n",
        "            keywords.append(keywords_item)\n",
        "    return keywords"
      ],
      "metadata": {
        "id": "mk9btkqftXyc"
      },
      "execution_count": null,
      "outputs": []
    },
    {
      "cell_type": "code",
      "source": [
        "# Test the keyword extraction function with new data\n",
        "new_data = [\n",
        "    \"The software developer must have experience in C++, .NET, and WPF.\",\n",
        "    \"We are looking for a data scientist with skills in SQL, Python, machine learning, and data analysis.\",\n",
        "    \"We are hiring a Senior Full Stack Developer. Proficient with: Node, React, Web Development, AWS infrastructure\"\n",
        "]\n",
        "\n",
        "# Extract keywords\n",
        "model_keywords = extract_keywords_model(new_data)\n",
        "\n",
        "# Post-process and Display the Results\n",
        "formatted_keywords = [', '.join(keywords) for keywords in model_keywords]\n",
        "\n",
        "# Display the results\n",
        "for i, keywords_str in enumerate(formatted_keywords):\n",
        "    print(f\"Formatted Keywords in text {i+1}: {keywords_str}\")"
      ],
      "metadata": {
        "colab": {
          "base_uri": "https://localhost:8080/"
        },
        "id": "_N_hRtpruEBh",
        "outputId": "fcb7635f-1b92-4e1f-9d5f-b5fc95e9edb7"
      },
      "execution_count": null,
      "outputs": [
        {
          "output_type": "stream",
          "name": "stdout",
          "text": [
            "Formatted Keywords in text 1: software developer must, experience C++.NET WPF.\n",
            "Formatted Keywords in text 2: looking data scientist skills SQL Python machine learning data analysis.\n",
            "Formatted Keywords in text 3: hiring Senior Full Stack Developer. Proficient Node React Web Development AWS infrastructure\n"
          ]
        }
      ]
    },
    {
      "cell_type": "markdown",
      "source": [
        "save model test2"
      ],
      "metadata": {
        "id": "_RhIkqFmxFUS"
      }
    },
    {
      "cell_type": "code",
      "source": [
        "#locally:\n",
        "# Save the model and tokenizer locally\n",
        "save_directory = \"./fine-tuned-keyword-extraction-230824-test2\"\n",
        "model.save_pretrained(save_directory)\n",
        "tokenizer.save_pretrained(save_directory)\n"
      ],
      "metadata": {
        "colab": {
          "base_uri": "https://localhost:8080/"
        },
        "outputId": "ce308bad-8529-45f9-c043-50dcd6f142c8",
        "id": "ZYL7nsxE0Tzn"
      },
      "execution_count": null,
      "outputs": [
        {
          "output_type": "execute_result",
          "data": {
            "text/plain": [
              "('./fine-tuned-keyword-extraction-230824-test2/tokenizer_config.json',\n",
              " './fine-tuned-keyword-extraction-230824-test2/special_tokens_map.json',\n",
              " './fine-tuned-keyword-extraction-230824-test2/vocab.json',\n",
              " './fine-tuned-keyword-extraction-230824-test2/merges.txt',\n",
              " './fine-tuned-keyword-extraction-230824-test2/added_tokens.json',\n",
              " './fine-tuned-keyword-extraction-230824-test2/tokenizer.json')"
            ]
          },
          "metadata": {},
          "execution_count": 25
        }
      ]
    },
    {
      "cell_type": "code",
      "source": [
        "# Load the saved model and tokenizer to verify they were saved correctly\n",
        "loaded_model = AutoModelForTokenClassification.from_pretrained(save_directory)\n",
        "loaded_tokenizer = AutoTokenizer.from_pretrained(save_directory)\n"
      ],
      "metadata": {
        "id": "pb0U6M_3zPoP"
      },
      "execution_count": null,
      "outputs": []
    },
    {
      "cell_type": "code",
      "source": [
        "# Save the state of the trainer (including optimizer, scheduler, etc.)\n",
        "trainer.save_state()\n"
      ],
      "metadata": {
        "id": "acvmC_xPzpKP"
      },
      "execution_count": null,
      "outputs": []
    },
    {
      "cell_type": "code",
      "source": [
        "# Save the model and tokenizer to Google Drive\n",
        "drive_save_directory = '/content/drive/MyDrive/fine-tuned-keyword-extraction-230824-test2'\n",
        "model.save_pretrained(drive_save_directory)\n",
        "tokenizer.save_pretrained(drive_save_directory)\n"
      ],
      "metadata": {
        "colab": {
          "base_uri": "https://localhost:8080/"
        },
        "outputId": "d78419a6-addb-4b5e-87c1-550c3474be4a",
        "id": "9K_WW5A10LUA"
      },
      "execution_count": null,
      "outputs": [
        {
          "output_type": "execute_result",
          "data": {
            "text/plain": [
              "('/content/drive/MyDrive/fine-tuned-keyword-extraction-230824-test2/tokenizer_config.json',\n",
              " '/content/drive/MyDrive/fine-tuned-keyword-extraction-230824-test2/special_tokens_map.json',\n",
              " '/content/drive/MyDrive/fine-tuned-keyword-extraction-230824-test2/vocab.json',\n",
              " '/content/drive/MyDrive/fine-tuned-keyword-extraction-230824-test2/merges.txt',\n",
              " '/content/drive/MyDrive/fine-tuned-keyword-extraction-230824-test2/added_tokens.json',\n",
              " '/content/drive/MyDrive/fine-tuned-keyword-extraction-230824-test2/tokenizer.json')"
            ]
          },
          "metadata": {},
          "execution_count": 28
        }
      ]
    },
    {
      "cell_type": "markdown",
      "source": [
        "visualization of results:"
      ],
      "metadata": {
        "id": "Rca_SQvjw1oE"
      }
    },
    {
      "cell_type": "code",
      "source": [
        "from google.colab import drive\n",
        "drive.mount('/content/drive')"
      ],
      "metadata": {
        "colab": {
          "base_uri": "https://localhost:8080/"
        },
        "id": "5cnBZBMWzr5N",
        "outputId": "0f975271-87a3-4203-e4d5-1d6931f0fb9f"
      },
      "execution_count": null,
      "outputs": [
        {
          "output_type": "stream",
          "name": "stdout",
          "text": [
            "Drive already mounted at /content/drive; to attempt to forcibly remount, call drive.mount(\"/content/drive\", force_remount=True).\n"
          ]
        }
      ]
    },
    {
      "cell_type": "code",
      "source": [
        "import pandas as pd\n",
        "from sklearn.metrics import accuracy_score, f1_score\n",
        "\n",
        "# Load the Excel file\n",
        "file_path = '/content/drive/MyDrive/פרויקט גמר ניסן והדר/new/data_final.xlsx'\n",
        "data = pd.read_excel(file_path)\n",
        "print(len(data))"
      ],
      "metadata": {
        "colab": {
          "base_uri": "https://localhost:8080/"
        },
        "id": "Jqsj5JVNcdEI",
        "outputId": "23faa580-13d5-4d51-a322-0af898277879"
      },
      "execution_count": null,
      "outputs": [
        {
          "output_type": "stream",
          "name": "stdout",
          "text": [
            "13693\n"
          ]
        }
      ]
    },
    {
      "cell_type": "code",
      "source": [
        "# Extract the relevant columns\n",
        "final_labels = data['final']\n",
        "chatgpt_predictions = data['chatgpt']\n",
        "keybert_predictions = data['KeyBert']"
      ],
      "metadata": {
        "id": "kSrwf-vGce2C"
      },
      "execution_count": null,
      "outputs": []
    },
    {
      "cell_type": "code",
      "source": [
        "from sklearn.metrics import cohen_kappa_score\n",
        "filtered_df = data[(data['hadar'] != '-') & (data['nisan'] != '-')]\n",
        "\n",
        "# Extract the 'hadar' and 'nisan' columns as lists\n",
        "x = filtered_df['hadar'].tolist()\n",
        "y = filtered_df['nisan'].tolist()\n",
        "\n",
        "# Calculate Cohen's kappa score\n",
        "kappa_score = cohen_kappa_score(x, y)\n",
        "kappa_score"
      ],
      "metadata": {
        "colab": {
          "base_uri": "https://localhost:8080/"
        },
        "id": "m5v6wiGQcpbV",
        "outputId": "77820a8d-4dda-4247-8c1a-6fdd0a8ae2fe"
      },
      "execution_count": null,
      "outputs": [
        {
          "output_type": "execute_result",
          "data": {
            "text/plain": [
              "0.9520964471897954"
            ]
          },
          "metadata": {},
          "execution_count": 15
        }
      ]
    },
    {
      "cell_type": "code",
      "source": [
        "# Calculate accuracy, F1 score, and F1 macro score for ChatGPT predictions\n",
        "chatgpt_accuracy = accuracy_score(final_labels, chatgpt_predictions)\n",
        "#chatgpt_f1 = f1_score(final_labels, chatgpt_predictions)\n",
        "chatgpt_f1_macro = f1_score(final_labels, chatgpt_predictions, average='macro')\n",
        "\n",
        "# Calculate accuracy, F1 score, and F1 macro score for KeyBert predictions\n",
        "keybert_accuracy = accuracy_score(final_labels, keybert_predictions)\n",
        "#keybert_f1 = f1_score(final_labels, keybert_predictions)\n",
        "keybert_f1_macro = f1_score(final_labels, keybert_predictions, average='macro')\n",
        "\n",
        "# Output the results\n",
        "print(\"ChatGPT Predictions:\")\n",
        "print(f\"Accuracy: {chatgpt_accuracy}\")\n",
        "#print(f\"F1 Score: {chatgpt_f1}\")\n",
        "print(f\"F1 Macro Score: {chatgpt_f1_macro}\")\n",
        "\n",
        "print(\"\\nKeyBert Predictions:\")\n",
        "print(f\"Accuracy: {keybert_accuracy}\")\n",
        "#print(f\"F1 Score: {keybert_f1}\")\n",
        "print(f\"F1 Macro Score: {keybert_f1_macro}\")\n"
      ],
      "metadata": {
        "colab": {
          "base_uri": "https://localhost:8080/"
        },
        "id": "-gHowLN2UmS1",
        "outputId": "81886877-1a55-4229-b8e7-c56f30e3b149"
      },
      "execution_count": null,
      "outputs": [
        {
          "output_type": "stream",
          "name": "stdout",
          "text": [
            "ChatGPT Predictions:\n",
            "Accuracy: 0.7816402541444534\n",
            "F1 Macro Score: 0.5997329589301807\n",
            "\n",
            "KeyBert Predictions:\n",
            "Accuracy: 0.7316877236544219\n",
            "F1 Macro Score: 0.4346938011401934\n"
          ]
        }
      ]
    },
    {
      "cell_type": "code",
      "source": [
        "from sklearn.metrics import confusion_matrix, balanced_accuracy_score\n",
        "\n",
        "# Confusion Matrix for ChatGPT predictions\n",
        "chatgpt_confusion_matrix = confusion_matrix(final_labels, chatgpt_predictions)\n",
        "\n",
        "# Balanced Accuracy for ChatGPT predictions\n",
        "chatgpt_balanced_accuracy = balanced_accuracy_score(final_labels, chatgpt_predictions)\n",
        "\n",
        "# Repeat the same for KeyBert predictions\n",
        "keybert_confusion_matrix = confusion_matrix(final_labels, keybert_predictions)\n",
        "keybert_balanced_accuracy = balanced_accuracy_score(final_labels, keybert_predictions)\n",
        "\n",
        "# Output the results\n",
        "print(\"ChatGPT Predictions:\")\n",
        "print(f\"Confusion Matrix:\\n{chatgpt_confusion_matrix}\")\n",
        "print(f\"Balanced Accuracy: {chatgpt_balanced_accuracy}\")\n",
        "\n",
        "print(\"\\nKeyBert Predictions:\")\n",
        "print(f\"Confusion Matrix:\\n{keybert_confusion_matrix}\")\n",
        "print(f\"Balanced Accuracy: {keybert_balanced_accuracy}\")\n"
      ],
      "metadata": {
        "colab": {
          "base_uri": "https://localhost:8080/"
        },
        "id": "zHK7cO2NUqbj",
        "outputId": "501dfbfb-6eba-4b35-cea7-42d231dcc20d"
      },
      "execution_count": null,
      "outputs": [
        {
          "output_type": "stream",
          "name": "stdout",
          "text": [
            "ChatGPT Predictions:\n",
            "Confusion Matrix:\n",
            "[[9967    5]\n",
            " [2985  736]]\n",
            "Balanced Accuracy: 0.5986474436942655\n",
            "\n",
            "KeyBert Predictions:\n",
            "Confusion Matrix:\n",
            "[[9972    0]\n",
            " [3674   47]]\n",
            "Balanced Accuracy: 0.5063155065842515\n"
          ]
        }
      ]
    },
    {
      "cell_type": "code",
      "source": [
        "import matplotlib.pyplot as plt\n",
        "import numpy as np"
      ],
      "metadata": {
        "id": "Nhj5oekhUyC9"
      },
      "execution_count": null,
      "outputs": []
    },
    {
      "cell_type": "code",
      "source": [
        "# Data for the models\n",
        "models = ['KeyBert', 'ChatGPT 3.5', 'OZHRi 2.0 AI Model']\n",
        "accuracy_scores = [0.7316877236544219, 0.7816402541444534, 0.9812]\n",
        "f1_macro_scores = [0.4346938011401934, 0.5997329589301807, 0.9754]\n",
        "\n",
        "# Convert scores to percentages\n",
        "accuracy_scores = [score * 100 for score in accuracy_scores]\n",
        "f1_macro_scores = [score * 100 for score in f1_macro_scores]\n",
        "\n",
        "# Create a bar chart to compare Accuracy and F1 Macro Score\n",
        "x = np.arange(len(models))  # the label locations\n",
        "width = 0.3  # the width of the bars\n",
        "\n",
        "fig, ax = plt.subplots(figsize=(16, 10))\n",
        "\n",
        "# Use a blue color palette\n",
        "rects1 = ax.bar(x - width/2, accuracy_scores, width, label='Accuracy', color='#4A90E2')\n",
        "rects2 = ax.bar(x + width/2, f1_macro_scores, width, label='F1 Macro Score', color='#357ABD')\n",
        "\n",
        "# Add some text for labels, title, and custom x-axis tick labels, etc.\n",
        "#ax.set_xlabel('Models', fontsize=16)\n",
        "ax.set_ylabel('Scores (%)', fontsize=16)\n",
        "ax.set_title('Models Comparison', fontsize=18)\n",
        "ax.set_xticks(x)\n",
        "ax.set_xticklabels(models, fontsize=16)\n",
        "\n",
        "# Set Y axis ticks and add grid\n",
        "ax.set_yticks(np.arange(0, 110, 10))\n",
        "ax.grid(True, axis='y', linestyle='--', linewidth=0.7, color='gray')\n",
        "\n",
        "# Place the legend outside the plot\n",
        "ax.legend(fontsize=14, loc='center left', bbox_to_anchor=(1, 0.5))\n",
        "\n",
        "# Attach a text label above each bar, displaying its height with increased font size and bold for OZHRi model\n",
        "def autolabel(rects, model_name):\n",
        "    \"\"\"Attach a text label above each bar in *rects*, displaying its height.\"\"\"\n",
        "    for rect in rects:\n",
        "        height = rect.get_height()\n",
        "        ax.annotate(f'{height:.2f}%',\n",
        "                    xy=(rect.get_x() + rect.get_width()/1.8, height),\n",
        "                    xytext=(0, 0),  # 5 points vertical offset\n",
        "                    textcoords=\"offset points\",\n",
        "                    ha='center', va='bottom',\n",
        "                    fontsize=18, fontweight='bold')\n",
        "\n",
        "autolabel(rects1, models[0])\n",
        "autolabel(rects2, models[0])\n",
        "autolabel(rects1, models[1])\n",
        "autolabel(rects2, models[1])\n",
        "autolabel(rects1, models[2])\n",
        "autolabel(rects2, models[2])\n",
        "\n",
        "fig.tight_layout()\n",
        "\n",
        "plt.show()\n"
      ],
      "metadata": {
        "colab": {
          "base_uri": "https://localhost:8080/",
          "height": 737
        },
        "id": "aSs_pS9NU1Ly",
        "outputId": "5a73de28-5adc-4486-b004-52169819994d"
      },
      "execution_count": null,
      "outputs": [
        {
          "output_type": "display_data",
          "data": {
            "text/plain": [
              "<Figure size 1600x1000 with 1 Axes>"
            ],
            "image/png": "[encoded data removed]"
          },
          "metadata": {}
        }
      ]
    },
    {
      "cell_type": "markdown",
      "source": [
        "Overfitting test:"
      ],
      "metadata": {
        "id": "OEraVDChHIl-"
      }
    },
    {
      "cell_type": "code",
      "source": [
        "import matplotlib.pyplot as plt\n",
        "\n",
        "# Data from the provided training and validation results\n",
        "epochs = [1, 2, 3, 4, 5, 6]\n",
        "training_loss = [0.621500, 0.428400, 0.264400, 0.166200, 0.108500, 0.084800]\n",
        "validation_loss = [0.484459, 0.341856, 0.206873, 0.125802, 0.086277, 0.074725]\n",
        "accuracy = [0.750542, 0.823572, 0.962401, 0.978670, 0.980477, 0.981200]\n",
        "f1_macro = [0.447833, 0.682430, 0.948789, 0.972038, 0.974467, 0.975367]\n",
        "f1_class_1 = [0.038997, 0.470716, 0.922388, 0.958421, 0.962079, 0.963380]\n",
        "f1_class_0 = [0.856668, 0.894143, 0.975191, 0.985655, 0.986855, 0.987354]\n",
        "\n",
        "# 1. Plotting the Training and Validation Loss Over Epochs\n",
        "plt.figure(figsize=(10, 5))\n",
        "plt.plot(epochs, training_loss, 'b-', label='Training Loss')\n",
        "plt.plot(epochs, validation_loss, 'r-', label='Validation Loss')\n",
        "plt.xlabel('Epochs')\n",
        "plt.ylabel('Loss')\n",
        "plt.title('Training and Validation Loss Over Epochs')\n",
        "plt.legend()\n",
        "plt.grid(True)\n",
        "plt.show()\n",
        "\n",
        "# 2. Plotting the Accuracy and F1 Macro Score Over Epochs\n",
        "plt.figure(figsize=(10, 5))\n",
        "plt.plot(epochs, accuracy, 'g-', label='Accuracy')\n",
        "plt.plot(epochs, f1_macro, 'm-', label='F1 Macro')\n",
        "plt.xlabel('Epochs')\n",
        "plt.ylabel('Score')\n",
        "plt.title('Accuracy and F1 Macro Score Over Epochs')\n",
        "plt.legend()\n",
        "plt.grid(True)\n",
        "plt.show()\n",
        "\n",
        "# 3. Plotting the F1 Score for Class 1 and Class 0 Over Epochs\n",
        "plt.figure(figsize=(10, 5))\n",
        "plt.plot(epochs, f1_class_1, 'c-', label='F1 Class 1')\n",
        "plt.plot(epochs, f1_class_0, 'y-', label='F1 Class 0')\n",
        "plt.xlabel('Epochs')\n",
        "plt.ylabel('F1 Score')\n",
        "plt.title('F1 Score For Class 1 and Class 0 Over Epochs')\n",
        "plt.legend()\n",
        "plt.grid(True)\n",
        "plt.show()\n"
      ],
      "metadata": {
        "colab": {
          "base_uri": "https://localhost:8080/",
          "height": 1000
        },
        "id": "z_iQEUNuIKuk",
        "outputId": "21f9bd0c-ed16-464d-8afa-0ad6f606931f"
      },
      "execution_count": null,
      "outputs": [
        {
          "output_type": "display_data",
          "data": {
            "text/plain": [
              "<Figure size 1000x500 with 1 Axes>"
            ],
            "image/png": "[encoded data removed]"
          },
          "metadata": {}
        },
        {
          "output_type": "display_data",
          "data": {
            "text/plain": [
              "<Figure size 1000x500 with 1 Axes>"
            ],
            "image/png": "[encoded data removed]"
          },
          "metadata": {}
        },
        {
          "output_type": "display_data",
          "data": {
            "text/plain": [
              "<Figure size 1000x500 with 1 Axes>"
            ],
            "image/png": "[encoded data removed]"
          },
          "metadata": {}
        }
      ]
    },
    {
      "cell_type": "markdown",
      "source": [
        "Results Analysis\n",
        "Training and Validation Loss\n",
        "\n",
        "Both the training and validation losses were recorded over the course of six epochs, and the results show a consistent decrease in both metrics:\n",
        "\n",
        "Training Loss: The training loss decreased steadily from an initial value of 0.6215 to a final value of 0.0848. This consistent reduction indicates that the model was effectively learning the patterns within the training data, minimizing the error.\n",
        "\n",
        "Validation Loss: Similarly, the validation loss decreased from an initial value of 0.4845 to a final value of 0.0747. The decline in validation loss, which closely parallels the training loss, suggests that the model was not only learning effectively but also generalizing well to the validation data. The proximity of the final validation loss to the training loss is indicative of good generalization and suggests that overfitting is being controlled effectively.\n",
        "\n",
        "Interpretation: The steady decrease in both training and validation loss across epochs is a positive sign, demonstrating that the model improves its performance with more exposure to the data. The close alignment between the final training and validation loss values indicates that the model is not overfitting to the training data. This balance shows that the model has learned general patterns that apply well to unseen data.\n",
        "\n",
        "Accuracy and F1 Macro Score\n",
        "Throughout the training process, both the accuracy and F1 Macro scores were monitored, reflecting the model's ability to correctly classify both the majority and minority classes:\n",
        "\n",
        "Accuracy: The accuracy of the model improved from an initial value of 0.7505 to a final value of 0.9812. This significant increase indicates that the model became increasingly proficient at correctly classifying instances in both the training and validation datasets.\n",
        "\n",
        "F1 Macro Score: The F1 Macro score, which provides a balanced measure of precision and recall for both classes, showed a marked improvement from 0.4478 to 0.9754. This increase is significant because it demonstrates that the model is effectively managing the trade-off between precision and recall, ensuring that both types of classification errors (false positives and false negatives) are minimized.\n",
        "\n",
        "Interpretation: The consistent increase in accuracy and F1 Macro scores suggests that the model's predictive power is robust across different epochs. The F1 Macro score's growth, in particular, highlights the model's balanced performance across classes, which is critical in scenarios with class imbalance.\n",
        "\n",
        "F1 Scores for Class 1 and Class 0\n",
        "Given the class imbalance (with class 1 being the minority class), it is crucial to analyze the F1 scores for each class separately to ensure that the model does not disproportionately favor the majority class:\n",
        "\n",
        "F1 Score for Class 1 (Minority Class): The F1 score for class 1 started at a low value of 0.0390 but increased significantly to 0.9634 by the final epoch. This dramatic improvement indicates that the model initially struggled with correctly identifying instances of the minority class but became highly proficient over time. This increase shows that the model learned to recognize features relevant to the minority class effectively, despite its underrepresentation.\n",
        "\n",
        "F1 Score for Class 0 (Majority Class): The F1 score for class 0 remained consistently high, starting at 0.8567 and reaching 0.9874 by the final epoch. This consistency suggests that the model was consistently able to classify the majority class correctly, maintaining high precision and recall.\n",
        "\n",
        "Interpretation: The improvement in the F1 score for class 1 demonstrates the model's ability to adapt to class imbalances, learning to treat minority class instances with the same importance as those of the majority class. This balanced performance is crucial for applications where both classes are of importance, and errors in minority class predictions could be costly or critical.\n",
        "\n",
        "Conclusion\n",
        "The results from the training and validation phases indicate that the model is learning effectively and generalizing well to new data. The decreasing loss values and increasing accuracy and F1 scores across epochs suggest that overfitting is not a significant issue. The close alignment of the final training and validation losses further supports this conclusion, indicating that the model has not simply memorized the training data but has learned generalizable patterns.\n",
        "\n",
        "The substantial improvement in the F1 score for class 1, from a very low initial value to a high final value, is particularly noteworthy. This improvement demonstrates the model's capacity to handle class imbalances effectively, making it well-suited for real-world applications where such imbalances are common. The model's ability to achieve high performance on both majority and minority classes ensures that it can be deployed in environments where equitable performance across different classes is crucial.\n",
        "\n",
        "These findings suggest that the model is robust, scalable, and capable of maintaining high performance across varied data distributions. The balanced handling of class imbalance further indicates the model's readiness for application in domains where class imbalance is prevalent, and accurate predictions across all classes are essential."
      ],
      "metadata": {
        "id": "6iaJ_-ekH2tg"
      }
    }
  ]
}
